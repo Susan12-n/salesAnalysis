{
 "cells": [
  {
   "cell_type": "code",
   "execution_count": null,
   "id": "66cf5545-8de5-4a46-9048-93974d72376b",
   "metadata": {},
   "outputs": [],
   "source": [
    "import pandas as pd\n",
    "import matplotlib.pyplot as plt\n",
    "\n",
    "df = pd.read_csv(\"sales_data.csv\")\n",
    "print(df)\n"
   ]
  },
  {
   "cell_type": "code",
   "execution_count": 9,
   "id": "8c7db369-a693-4907-8097-32f004f043b0",
   "metadata": {},
   "outputs": [
    {
     "name": "stdout",
     "output_type": "stream",
     "text": [
      "   Product_ID   Sale_Date Sales_Rep Region  Sales_Amount  Quantity_Sold  \\\n",
      "0        1052  2023-02-03       Bob  North       5053.97             18   \n",
      "1        1093  2023-04-21       Bob   West       4384.02             17   \n",
      "2        1015  2023-09-21     David  South       4631.23             30   \n",
      "3        1072  2023-08-24       Bob  South       2167.94             39   \n",
      "4        1061  2023-03-24   Charlie   East       3750.20             13   \n",
      "\n",
      "  Product_Category  Unit_Cost  Unit_Price Customer_Type  Discount  \\\n",
      "0        Furniture     152.75      267.22     Returning      0.09   \n",
      "1        Furniture    3816.39     4209.44     Returning      0.11   \n",
      "2             Food     261.56      371.40     Returning      0.20   \n",
      "3         Clothing    4330.03     4467.75           New      0.02   \n",
      "4      Electronics     637.37      692.71           New      0.08   \n",
      "\n",
      "  Payment_Method Sales_Channel Region_and_Sales_Rep  \n",
      "0           Cash        Online            North-Bob  \n",
      "1           Cash        Retail             West-Bob  \n",
      "2  Bank Transfer        Retail          South-David  \n",
      "3    Credit Card        Retail            South-Bob  \n",
      "4    Credit Card        Online         East-Charlie  \n"
     ]
    }
   ],
   "source": [
    "print(df.head())"
   ]
  },
  {
   "cell_type": "code",
   "execution_count": 10,
   "id": "f3233167-2311-4f5e-a3ea-f0a2d0e27dab",
   "metadata": {},
   "outputs": [
    {
     "name": "stdout",
     "output_type": "stream",
     "text": [
      "<class 'pandas.core.frame.DataFrame'>\n",
      "RangeIndex: 1000 entries, 0 to 999\n",
      "Data columns (total 14 columns):\n",
      " #   Column                Non-Null Count  Dtype  \n",
      "---  ------                --------------  -----  \n",
      " 0   Product_ID            1000 non-null   int64  \n",
      " 1   Sale_Date             1000 non-null   object \n",
      " 2   Sales_Rep             1000 non-null   object \n",
      " 3   Region                1000 non-null   object \n",
      " 4   Sales_Amount          1000 non-null   float64\n",
      " 5   Quantity_Sold         1000 non-null   int64  \n",
      " 6   Product_Category      1000 non-null   object \n",
      " 7   Unit_Cost             1000 non-null   float64\n",
      " 8   Unit_Price            1000 non-null   float64\n",
      " 9   Customer_Type         1000 non-null   object \n",
      " 10  Discount              1000 non-null   float64\n",
      " 11  Payment_Method        1000 non-null   object \n",
      " 12  Sales_Channel         1000 non-null   object \n",
      " 13  Region_and_Sales_Rep  1000 non-null   object \n",
      "dtypes: float64(4), int64(2), object(8)\n",
      "memory usage: 109.5+ KB\n",
      "None\n"
     ]
    }
   ],
   "source": [
    "print(df.info())"
   ]
  },
  {
   "cell_type": "code",
   "execution_count": 11,
   "id": "872705fa-b201-471c-8624-e01aad8cfb15",
   "metadata": {},
   "outputs": [],
   "source": [
    "df_cleaned = df.dropna()"
   ]
  },
  {
   "cell_type": "code",
   "execution_count": 12,
   "id": "01759586-a98e-4d68-90aa-100abe3c433a",
   "metadata": {},
   "outputs": [
    {
     "data": {
      "text/html": [
       "<div>\n",
       "<style scoped>\n",
       "    .dataframe tbody tr th:only-of-type {\n",
       "        vertical-align: middle;\n",
       "    }\n",
       "\n",
       "    .dataframe tbody tr th {\n",
       "        vertical-align: top;\n",
       "    }\n",
       "\n",
       "    .dataframe thead th {\n",
       "        text-align: right;\n",
       "    }\n",
       "</style>\n",
       "<table border=\"1\" class=\"dataframe\">\n",
       "  <thead>\n",
       "    <tr style=\"text-align: right;\">\n",
       "      <th></th>\n",
       "      <th>Product_ID</th>\n",
       "      <th>Sales_Amount</th>\n",
       "      <th>Quantity_Sold</th>\n",
       "      <th>Unit_Cost</th>\n",
       "      <th>Unit_Price</th>\n",
       "      <th>Discount</th>\n",
       "    </tr>\n",
       "  </thead>\n",
       "  <tbody>\n",
       "    <tr>\n",
       "      <th>count</th>\n",
       "      <td>1000.000000</td>\n",
       "      <td>1000.000000</td>\n",
       "      <td>1000.000000</td>\n",
       "      <td>1000.000000</td>\n",
       "      <td>1000.000000</td>\n",
       "      <td>1000.00000</td>\n",
       "    </tr>\n",
       "    <tr>\n",
       "      <th>mean</th>\n",
       "      <td>1050.128000</td>\n",
       "      <td>5019.265230</td>\n",
       "      <td>25.355000</td>\n",
       "      <td>2475.304550</td>\n",
       "      <td>2728.440120</td>\n",
       "      <td>0.15239</td>\n",
       "    </tr>\n",
       "    <tr>\n",
       "      <th>std</th>\n",
       "      <td>29.573505</td>\n",
       "      <td>2846.790126</td>\n",
       "      <td>14.159006</td>\n",
       "      <td>1417.872546</td>\n",
       "      <td>1419.399839</td>\n",
       "      <td>0.08720</td>\n",
       "    </tr>\n",
       "    <tr>\n",
       "      <th>min</th>\n",
       "      <td>1001.000000</td>\n",
       "      <td>100.120000</td>\n",
       "      <td>1.000000</td>\n",
       "      <td>60.280000</td>\n",
       "      <td>167.120000</td>\n",
       "      <td>0.00000</td>\n",
       "    </tr>\n",
       "    <tr>\n",
       "      <th>25%</th>\n",
       "      <td>1024.000000</td>\n",
       "      <td>2550.297500</td>\n",
       "      <td>13.000000</td>\n",
       "      <td>1238.380000</td>\n",
       "      <td>1509.085000</td>\n",
       "      <td>0.08000</td>\n",
       "    </tr>\n",
       "    <tr>\n",
       "      <th>50%</th>\n",
       "      <td>1051.000000</td>\n",
       "      <td>5019.300000</td>\n",
       "      <td>25.000000</td>\n",
       "      <td>2467.235000</td>\n",
       "      <td>2696.400000</td>\n",
       "      <td>0.15000</td>\n",
       "    </tr>\n",
       "    <tr>\n",
       "      <th>75%</th>\n",
       "      <td>1075.000000</td>\n",
       "      <td>7507.445000</td>\n",
       "      <td>38.000000</td>\n",
       "      <td>3702.865000</td>\n",
       "      <td>3957.970000</td>\n",
       "      <td>0.23000</td>\n",
       "    </tr>\n",
       "    <tr>\n",
       "      <th>max</th>\n",
       "      <td>1100.000000</td>\n",
       "      <td>9989.040000</td>\n",
       "      <td>49.000000</td>\n",
       "      <td>4995.300000</td>\n",
       "      <td>5442.150000</td>\n",
       "      <td>0.30000</td>\n",
       "    </tr>\n",
       "  </tbody>\n",
       "</table>\n",
       "</div>"
      ],
      "text/plain": [
       "        Product_ID  Sales_Amount  Quantity_Sold    Unit_Cost   Unit_Price  \\\n",
       "count  1000.000000   1000.000000    1000.000000  1000.000000  1000.000000   \n",
       "mean   1050.128000   5019.265230      25.355000  2475.304550  2728.440120   \n",
       "std      29.573505   2846.790126      14.159006  1417.872546  1419.399839   \n",
       "min    1001.000000    100.120000       1.000000    60.280000   167.120000   \n",
       "25%    1024.000000   2550.297500      13.000000  1238.380000  1509.085000   \n",
       "50%    1051.000000   5019.300000      25.000000  2467.235000  2696.400000   \n",
       "75%    1075.000000   7507.445000      38.000000  3702.865000  3957.970000   \n",
       "max    1100.000000   9989.040000      49.000000  4995.300000  5442.150000   \n",
       "\n",
       "         Discount  \n",
       "count  1000.00000  \n",
       "mean      0.15239  \n",
       "std       0.08720  \n",
       "min       0.00000  \n",
       "25%       0.08000  \n",
       "50%       0.15000  \n",
       "75%       0.23000  \n",
       "max       0.30000  "
      ]
     },
     "execution_count": 12,
     "metadata": {},
     "output_type": "execute_result"
    }
   ],
   "source": [
    "df.describe()"
   ]
  },
  {
   "cell_type": "code",
   "execution_count": 14,
   "id": "2b52e118-7f57-4911-ba87-34226e2ab871",
   "metadata": {},
   "outputs": [
    {
     "name": "stdout",
     "output_type": "stream",
     "text": [
      "Product_ID              0\n",
      "Sale_Date               0\n",
      "Sales_Rep               0\n",
      "Region                  0\n",
      "Sales_Amount            0\n",
      "Quantity_Sold           0\n",
      "Product_Category        0\n",
      "Unit_Cost               0\n",
      "Unit_Price              0\n",
      "Customer_Type           0\n",
      "Discount                0\n",
      "Payment_Method          0\n",
      "Sales_Channel           0\n",
      "Region_and_Sales_Rep    0\n",
      "dtype: int64\n"
     ]
    }
   ],
   "source": [
    "print(df_cleaned.isnull().sum())"
   ]
  },
  {
   "cell_type": "code",
   "execution_count": 1,
   "id": "1c70d4cf-7dd4-4a8d-ab55-3403c0165c19",
   "metadata": {},
   "outputs": [
    {
     "name": "stdout",
     "output_type": "stream",
     "text": [
      "     Product_ID   Sale_Date Sales_Rep Region  Sales_Amount  Quantity_Sold  \\\n",
      "0          1052  2023-02-03       Bob  North       5053.97             18   \n",
      "1          1093  2023-04-21       Bob   West       4384.02             17   \n",
      "2          1015  2023-09-21     David  South       4631.23             30   \n",
      "3          1072  2023-08-24       Bob  South       2167.94             39   \n",
      "4          1061  2023-03-24   Charlie   East       3750.20             13   \n",
      "..          ...         ...       ...    ...           ...            ...   \n",
      "995        1010  2023-04-15   Charlie  North       4733.88              4   \n",
      "996        1067  2023-09-07       Bob  North       4716.36             37   \n",
      "997        1018  2023-04-27     David  South       7629.70             17   \n",
      "998        1100  2023-12-20     David   West       1629.47             39   \n",
      "999        1086  2023-08-16     Alice   East       4923.93             48   \n",
      "\n",
      "    Product_Category  Unit_Cost  Unit_Price Customer_Type  Discount  \\\n",
      "0          Furniture     152.75      267.22     Returning      0.09   \n",
      "1          Furniture    3816.39     4209.44     Returning      0.11   \n",
      "2               Food     261.56      371.40     Returning      0.20   \n",
      "3           Clothing    4330.03     4467.75           New      0.02   \n",
      "4        Electronics     637.37      692.71           New      0.08   \n",
      "..               ...        ...         ...           ...       ...   \n",
      "995             Food    4943.03     5442.15     Returning      0.29   \n",
      "996         Clothing    1754.32     1856.40           New      0.21   \n",
      "997         Clothing     355.72      438.27     Returning      0.06   \n",
      "998      Electronics    3685.03     3743.39           New      0.01   \n",
      "999             Food    2632.58     2926.68     Returning      0.14   \n",
      "\n",
      "    Payment_Method Sales_Channel Region_and_Sales_Rep  \n",
      "0             Cash        Online            North-Bob  \n",
      "1             Cash        Retail             West-Bob  \n",
      "2    Bank Transfer        Retail          South-David  \n",
      "3      Credit Card        Retail            South-Bob  \n",
      "4      Credit Card        Online         East-Charlie  \n",
      "..             ...           ...                  ...  \n",
      "995           Cash        Online        North-Charlie  \n",
      "996  Bank Transfer        Retail            North-Bob  \n",
      "997  Bank Transfer        Online          South-David  \n",
      "998  Bank Transfer        Online           West-David  \n",
      "999           Cash        Online           East-Alice  \n",
      "\n",
      "[1000 rows x 14 columns]\n"
     ]
    }
   ],
   "source": [
    "import pandas as pd\n",
    "import matplotlib.pyplot as plt\n",
    "\n",
    "df = pd.read_csv(\"sales_data.csv\")\n",
    "print(df)\n"
   ]
  },
  {
   "cell_type": "code",
   "execution_count": 2,
   "id": "cd7a0865-52a3-4663-8d8b-68e6f30f4c23",
   "metadata": {},
   "outputs": [
    {
     "name": "stdout",
     "output_type": "stream",
     "text": [
      "Index(['Product_ID', 'Sale_Date', 'Sales_Rep', 'Region', 'Sales_Amount',\n",
      "       'Quantity_Sold', 'Product_Category', 'Unit_Cost', 'Unit_Price',\n",
      "       'Customer_Type', 'Discount', 'Payment_Method', 'Sales_Channel',\n",
      "       'Region_and_Sales_Rep'],\n",
      "      dtype='object')\n"
     ]
    }
   ],
   "source": [
    "print(df.columns)\n"
   ]
  },
  {
   "cell_type": "code",
   "execution_count": 3,
   "id": "5c5e5b18-061c-41f6-afe1-c9659a162965",
   "metadata": {},
   "outputs": [
    {
     "name": "stdout",
     "output_type": "stream",
     "text": [
      "Region\n",
      "East     4790.087186\n",
      "North    5129.634869\n",
      "South    5107.304690\n",
      "West     5063.971025\n",
      "Name: Sales_Amount, dtype: float64\n"
     ]
    }
   ],
   "source": [
    "data_mean = df.groupby('Region')['Sales_Amount'].mean()\n",
    "print(data_mean)"
   ]
  },
  {
   "cell_type": "code",
   "execution_count": 4,
   "id": "e47decf0-5dc0-43fc-9b7f-354660a9c8ba",
   "metadata": {},
   "outputs": [
    {
     "name": "stdout",
     "output_type": "stream",
     "text": [
      "Region\n",
      "East     4649.880\n",
      "North    5207.030\n",
      "South    4759.875\n",
      "West     5249.625\n",
      "Name: Sales_Amount, dtype: float64\n"
     ]
    }
   ],
   "source": [
    "data_median = df.groupby('Region')['Sales_Amount'].median()\n",
    "print(data_median)"
   ]
  },
  {
   "cell_type": "code",
   "execution_count": 5,
   "id": "15e94def-244e-45f3-8eda-f64060c200aa",
   "metadata": {},
   "outputs": [
    {
     "name": "stdout",
     "output_type": "stream",
     "text": [
      "Region\n",
      "East     2792.336854\n",
      "North    2893.659953\n",
      "South    2852.630702\n",
      "West     2851.413141\n",
      "Name: Sales_Amount, dtype: float64\n"
     ]
    }
   ],
   "source": [
    "data_standard = df.groupby('Region')['Sales_Amount'].std()\n",
    "print(data_standard)"
   ]
  },
  {
   "cell_type": "code",
   "execution_count": 6,
   "id": "d7c63b09-4765-4755-806e-5a5a112cc7c6",
   "metadata": {},
   "outputs": [
    {
     "data": {
      "image/png": "[encoded data removed]",
      "text/plain": [
       "<Figure size 640x480 with 1 Axes>"
      ]
     },
     "metadata": {},
     "output_type": "display_data"
    }
   ],
   "source": [
    "import matplotlib.pyplot as plt\n",
    "import pandas as pd\n",
    "\n",
    "x= ['East','North','South','West']\n",
    "y= [4790.1,5129.6,5107.3,5063.97]\n",
    "\n",
    "plt.plot(x,y)\n",
    "plt.title(\"a line graph of mean sales aganist region\")\n",
    "plt.xlabel(\"mean data\")\n",
    "plt.ylabel(\"region\")\n",
    "plt.show()"
   ]
  },
  {
   "cell_type": "code",
   "execution_count": 7,
   "id": "6d3ad1ac-6cb8-401f-a9fc-3398a2ec02b3",
   "metadata": {},
   "outputs": [
    {
     "data": {
      "image/png": "[encoded data removed]",
      "text/plain": [
       "<Figure size 640x480 with 1 Axes>"
      ]
     },
     "metadata": {},
     "output_type": "display_data"
    }
   ],
   "source": [
    "import matplotlib.pyplot as plt\n",
    "import pandas as pd\n",
    "\n",
    "regions= ['East','North','South','West'] \n",
    "sales= [4790.1,5129.6,5107.3,5063.97]\n",
    "\n",
    "plt.bar(regions,sales,color='green')\n",
    "plt.title(\"a bar graph of mean sales aganist region\")\n",
    "plt.xlabel(\"mean data\")\n",
    "plt.ylabel(\"region\")\n",
    "plt.show()\n"
   ]
  },
  {
   "cell_type": "code",
   "execution_count": null,
   "id": "f9f07b1d-c5b8-4640-a79c-fa68f2719467",
   "metadata": {},
   "outputs": [],
   "source": []
  }
 ],
 "metadata": {
  "kernelspec": {
   "display_name": "anaconda-panel-2023.05-py310",
   "language": "python",
   "name": "conda-env-anaconda-panel-2023.05-py310-py"
  },
  "language_info": {
   "codemirror_mode": {
    "name": "ipython",
    "version": 3
   },
   "file_extension": ".py",
   "mimetype": "text/x-python",
   "name": "python",
   "nbconvert_exporter": "python",
   "pygments_lexer": "ipython3",
   "version": "3.11.5"
  }
 },
 "nbformat": 4,
 "nbformat_minor": 5
}
